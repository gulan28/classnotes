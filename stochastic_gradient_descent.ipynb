{
 "cells": [
  {
   "cell_type": "code",
   "execution_count": 6,
   "metadata": {},
   "outputs": [],
   "source": [
    "import numpy as np\n",
    "import matplotlib.pyplot as plt"
   ]
  },
  {
   "cell_type": "code",
   "execution_count": 23,
   "metadata": {},
   "outputs": [],
   "source": [
    "#  generate synthetic data from ground truth\n",
    "\n",
    "true_weights = np.array([1, 2, 3, 4, 5])\n",
    "\n",
    "def generate_training_examples():\n",
    "    x = np.random.randn(len(true_weights))\n",
    "    y = true_weights.dot(x) + np.random.randn()\n",
    "    return (x, y)\n",
    "\n",
    "training_data = [generate_training_examples() for i in range(100000)]"
   ]
  },
  {
   "cell_type": "code",
   "execution_count": 24,
   "metadata": {},
   "outputs": [],
   "source": [
    "def phi(x):\n",
    "    return np.array(x)\n",
    "\n",
    "def init_weights():\n",
    "    return np.array(len(true_weights))\n",
    "\n",
    "def loss(w, i):\n",
    "    x, y = training_data[i]\n",
    "    return (w.dot(phi(x)) - y)**2\n",
    "\n",
    "def gradient_loss(w, i):\n",
    "    x, y = training_data[i]\n",
    "    return 2*(w.dot(phi(x)) - y)*phi(x)\n"
   ]
  },
  {
   "cell_type": "code",
   "execution_count": 26,
   "metadata": {},
   "outputs": [
    {
     "data": {
      "text/plain": [
       "array([1.01408201, 1.9856401 , 3.00018036, 4.0206256 , 5.00788944])"
      ]
     },
     "execution_count": 26,
     "metadata": {},
     "output_type": "execute_result"
    }
   ],
   "source": [
    "def gradient_descent(F, gradF, init_weights, n):\n",
    "    epochs = 500\n",
    "    num_updates = 0\n",
    "    w = init_weights\n",
    "    for t in range(epochs):\n",
    "        for idx in range(n):\n",
    "            num_updates += 1\n",
    "            eta = 1.0 / np.sqrt(num_updates)\n",
    "            w = w  - eta*gradF(w, idx)\n",
    "            loss = F(w, idx)\n",
    "        print(f\"Loss: {loss}, w: {w}\")\n",
    "    return w\n",
    "\n",
    "gradient_descent(loss, gradient_loss, init_weights(), len(training_data))"
   ]
  },
  {
   "cell_type": "code",
   "execution_count": null,
   "metadata": {},
   "outputs": [],
   "source": []
  }
 ],
 "metadata": {
  "kernelspec": {
   "display_name": "Python 3",
   "language": "python",
   "name": "python3"
  },
  "language_info": {
   "codemirror_mode": {
    "name": "ipython",
    "version": 3
   },
   "file_extension": ".py",
   "mimetype": "text/x-python",
   "name": "python",
   "nbconvert_exporter": "python",
   "pygments_lexer": "ipython3",
   "version": "3.12.2"
  }
 },
 "nbformat": 4,
 "nbformat_minor": 2
}
